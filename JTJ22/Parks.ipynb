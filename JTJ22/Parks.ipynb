{
 "cells": [
  {
   "cell_type": "code",
   "execution_count": 5,
   "metadata": {},
   "outputs": [
    {
     "data": {
      "text/plain": [
       "East Liberty                 12\n",
       "Central Business District    10\n",
       "Beechview                     8\n",
       "Point Breeze                  7\n",
       "South Side Slopes             7\n",
       "                             ..\n",
       "East Hills                    1\n",
       "Hays                          1\n",
       "Windgap                       1\n",
       "Middle Hill                   1\n",
       "Central Lawrenceville         1\n",
       "Name: neighborhood, Length: 73, dtype: int64"
      ]
     },
     "execution_count": 5,
     "metadata": {},
     "output_type": "execute_result"
    }
   ],
   "source": [
    "import pandas as pd\n",
    "import numpy as np\n",
    "\n",
    "data = pd.read_csv(\"fa329e3d-89ff-4708-8ddf-81bfedcad11d.csv\", index_col=\"id\")\n",
    "data['neighborhood'].value_counts()"
   ]
  },
  {
   "cell_type": "code",
   "execution_count": null,
   "metadata": {},
   "outputs": [],
   "source": []
  }
 ],
 "metadata": {
  "kernelspec": {
   "display_name": "Python 3",
   "language": "python",
   "name": "python3"
  },
  "language_info": {
   "codemirror_mode": {
    "name": "ipython",
    "version": 3
   },
   "file_extension": ".py",
   "mimetype": "text/x-python",
   "name": "python",
   "nbconvert_exporter": "python",
   "pygments_lexer": "ipython3",
   "version": "3.8.3"
  }
 },
 "nbformat": 4,
 "nbformat_minor": 4
}
